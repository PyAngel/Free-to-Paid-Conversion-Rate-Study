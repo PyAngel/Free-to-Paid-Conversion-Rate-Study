{
 "cells": [
  {
   "cell_type": "code",
   "execution_count": 31,
   "metadata": {},
   "outputs": [],
   "source": [
    "import mysql.connector\n",
    "import os_environt_variables\n",
    "import pandas as pd\n",
    "import os\n",
    "import matplotlib.pyplot as plt"
   ]
  },
  {
   "cell_type": "code",
   "execution_count": 2,
   "metadata": {},
   "outputs": [
    {
     "name": "stdout",
     "output_type": "stream",
     "text": [
      "Conexión exitosa a la base de datos.\n"
     ]
    }
   ],
   "source": [
    "\n",
    "conn = mysql.connector.connect(host=os.environ.get('HOST_BD'),user=os.environ.get('USER_BD'),password= os.environ.get('PASSWORD_BD'),database=os.environ.get('DATABASE_BD') )\n",
    "\n",
    "if conn.is_connected():\n",
    "    print(\"Conexión exitosa a la base de datos.\")\n",
    "else:\n",
    "    print(\"No se pudo establecer la conexión a la base de datos.\") \n"
   ]
  },
  {
   "cell_type": "code",
   "execution_count": 3,
   "metadata": {},
   "outputs": [],
   "source": [
    "cursor = conn.cursor()\n",
    "\n",
    "query = \"\"\" \n",
    "SELECT \n",
    "    se.student_id, \n",
    "    si.date_registered,\n",
    "    MIN(se.date_watched) as first_date_watched,\n",
    "    MIN(sp.date_purchased) as first_date_purchased,\n",
    "    TIMESTAMPDIFF(DAY, si.date_registered, MIN(se.date_watched)) as date_diff_reg_watch,\n",
    "    TIMESTAMPDIFF(DAY, MIN(se.date_watched), MIN(sp.date_purchased)) as date_diff_watch_purch\n",
    "\n",
    "FROM \n",
    "    db_course_conversions.student_info as si\n",
    "LEFT JOIN \n",
    "    db_course_conversions.student_engagement as se \n",
    "ON \n",
    "    si.student_id = se.student_id\n",
    "LEFT JOIN \n",
    "    db_course_conversions.student_purchases as sp \n",
    "ON \n",
    "    se.student_id = sp.student_id\n",
    "GROUP BY \n",
    "    si.student_id, si.date_registered\n",
    "HAVING \n",
    "    se.student_id IS NOT NULL AND (date_diff_watch_purch >= 0 OR date_diff_watch_purch IS NULL)\n",
    "\"\"\"\n",
    "cursor.execute(query)\n",
    "datos = cursor.fetchall()\n",
    "df = pd.DataFrame(datos, columns = [x[0] for x in cursor.description])\n",
    "conn.close()"
   ]
  },
  {
   "cell_type": "code",
   "execution_count": 42,
   "metadata": {},
   "outputs": [
    {
     "name": "stdout",
     "output_type": "stream",
     "text": [
      "<class 'pandas.core.frame.DataFrame'>\n",
      "RangeIndex: 20255 entries, 0 to 20254\n",
      "Data columns (total 6 columns):\n",
      " #   Column                 Non-Null Count  Dtype  \n",
      "---  ------                 --------------  -----  \n",
      " 0   student_id             20255 non-null  int64  \n",
      " 1   date_registered        20255 non-null  object \n",
      " 2   first_date_watched     20255 non-null  object \n",
      " 3   first_date_purchased   2286 non-null   object \n",
      " 4   date_diff_reg_watch    20255 non-null  int64  \n",
      " 5   date_diff_watch_purch  2286 non-null   float64\n",
      "dtypes: float64(1), int64(2), object(3)\n",
      "memory usage: 949.6+ KB\n"
     ]
    }
   ],
   "source": [
    "df.info()"
   ]
  },
  {
   "cell_type": "code",
   "execution_count": 50,
   "metadata": {},
   "outputs": [
    {
     "name": "stdout",
     "output_type": "stream",
     "text": [
      "La Tasa de conversion de usuarios asistentes a usuarios de suscripcion es : 11.286%\n"
     ]
    }
   ],
   "source": [
    "#TASA DE CONVERSION\n",
    "\n",
    "total_conversion = df['date_diff_watch_purch'].count()/df['date_registered'].count()\n",
    "print(f'La Tasa de conversion de usuarios asistentes a usuarios de suscripcion es : {total_conversion*100:.3f}%')"
   ]
  },
  {
   "cell_type": "code",
   "execution_count": 23,
   "metadata": {},
   "outputs": [
    {
     "name": "stdout",
     "output_type": "stream",
     "text": [
      "count    20255.000000\n",
      "mean         3.423895\n",
      "std         19.294891\n",
      "min          0.000000\n",
      "25%          0.000000\n",
      "50%          0.000000\n",
      "75%          0.000000\n",
      "max        313.000000\n",
      "Name: date_diff_reg_watch, dtype: float64\n",
      "la mediana es: 0.0 y la moda es: 0    0\n",
      "Name: date_diff_reg_watch, dtype: int64 \n"
     ]
    }
   ],
   "source": [
    "# Teniendo los datos calculados, ahora vamos a aplicar una serie de analisis estadisticos tratando de obtener algunos insights\n",
    "print(df.date_diff_reg_watch.describe())\n",
    "print(f\"la mediana es: {df['date_diff_reg_watch'].median()} y la moda es: {df['date_diff_reg_watch'].mode()} \")"
   ]
  },
  {
   "cell_type": "markdown",
   "metadata": {},
   "source": [
    "Vamos a revisar más a fondo la distribución de los datos, ya que tenemos un rango de valores bastante amplio, eso nos puede decir que hay una dispersión de los datos bastante amplia.\n",
    "\n",
    "observando nuestras estadísticas, tenemos una media de 3.42 días que pasan en que un usuario se inscribe hasta que tiene asiste a su primera transmisión, pero esta información debe ser analizada en perspectiva, ya que, si observamos la distribución de cuartiles, hasta el cuartil 3, ósea el 75% de los datos están concentrados en el cero (0), teniendo esto en cuenta se concluye que:\n",
    "\n",
    "1. los valores atípicos están afectando la media y entregando una media alejada de su mediana, mostrando que tenemos valores atípicos a la derecha (usuarios que ha pasado mucho tiempo desde que se inscribieron hasta que asistieron a su primera transmisión.)\n",
    "\n",
    "2. observando nuestra desviación estándar de 19.29, podemos dar fe de que los valores atípicos tienen una dispersión importante, pero sin tener el suficiente peso para tener en cuenta para dar un cambio drástico en la dirección de la estrategia de marketing de contenidos utilizada para conversión en esa sección del embudo.\n"
   ]
  },
  {
   "cell_type": "code",
   "execution_count": 9,
   "metadata": {},
   "outputs": [
    {
     "name": "stdout",
     "output_type": "stream",
     "text": [
      "date_diff_reg_watch\n",
      "0     17220\n",
      "1       934\n",
      "2       309\n",
      "3       170\n",
      "4       158\n",
      "5       126\n",
      "6       104\n",
      "7        75\n",
      "8        51\n",
      "10       47\n",
      "Name: count, dtype: int64\n"
     ]
    }
   ],
   "source": [
    "print(df.date_diff_reg_watch.value_counts().head(10))"
   ]
  },
  {
   "cell_type": "code",
   "execution_count": 32,
   "metadata": {},
   "outputs": [
    {
     "data": {
      "image/png": "[encoded data removed]",
      "text/plain": [
       "<Figure size 640x480 with 1 Axes>"
      ]
     },
     "metadata": {},
     "output_type": "display_data"
    }
   ],
   "source": [
    "df.date_diff_reg_watch.hist(bins = 16, edgecolor = 'black') #aplicamos la regla de sturges para calcular un numero optimo de clases para la cantidad de datos que tenemos\n",
    "plt.xlabel('Dias')\n",
    "plt.ylabel('Frecuencia')\n",
    "plt.title('Diferencia entre registro y 1ra asistencia')\n",
    "plt.show()"
   ]
  },
  {
   "cell_type": "markdown",
   "metadata": {},
   "source": [
    "Como observamos en el gráfico, podemos darnos cuenta de que un porcentaje muy elevado de los datos se ubica en la primera clase (aproximadamente los 20 primeros días), alrededor del 98% de los valores se acomodan en este sector,  distribuidos en el día cero en casi su totalidad.\n",
    "\n",
    "Esto demuestra que los esfuerzos del embudo son bastante buenos para esta etapa, que busca que el cliente apenas complete su registro consuma el contenido de promoción en las primeras 24 horas después de su registro.\n"
   ]
  },
  {
   "cell_type": "code",
   "execution_count": 37,
   "metadata": {},
   "outputs": [
    {
     "name": "stdout",
     "output_type": "stream",
     "text": [
      "count    2286.000000\n",
      "mean       26.247157\n",
      "std        71.411457\n",
      "min         0.000000\n",
      "25%         0.000000\n",
      "50%         1.000000\n",
      "75%         7.000000\n",
      "max       573.000000\n",
      "Name: date_diff_watch_purch, dtype: float64\n",
      "la mediana es: 1.0 y la moda es: 0    0.0\n",
      "Name: date_diff_watch_purch, dtype: float64  \n",
      "date_diff_watch_purch\n",
      "0.0    1128\n",
      "1.0     223\n",
      "2.0     112\n",
      "3.0      69\n",
      "4.0      68\n",
      "7.0      54\n",
      "6.0      52\n",
      "5.0      44\n",
      "8.0      20\n",
      "9.0      16\n",
      "Name: count, dtype: int64\n"
     ]
    }
   ],
   "source": [
    "print(df.date_diff_watch_purch.describe())\n",
    "print(f\"la mediana es: {df['date_diff_watch_purch'].median()} y la moda es: {df['date_diff_watch_purch'].mode()}  \")\n",
    "print(df.date_diff_watch_purch.value_counts().head(10))\n"
   ]
  },
  {
   "cell_type": "code",
   "execution_count": 48,
   "metadata": {},
   "outputs": [
    {
     "name": "stdout",
     "output_type": "stream",
     "text": [
      "la conversion de clientes en las primeras 72 horas despues de la primera transmision es: 63.998%\n"
     ]
    }
   ],
   "source": [
    "top_3 = df['date_diff_watch_purch'].value_counts().head(3).sum()\n",
    "total_registros = df['date_diff_watch_purch'].count()\n",
    "\n",
    "freq_72_horas = top_3/total_registros\n",
    "print(f'la conversion de clientes en las primeras 72 horas despues de la primera transmision es: {freq_72_horas*100:.3f}%')"
   ]
  },
  {
   "cell_type": "code",
   "execution_count": 33,
   "metadata": {},
   "outputs": [
    {
     "data": {
      "image/png": "[encoded data removed]",
      "text/plain": [
       "<Figure size 640x480 with 1 Axes>"
      ]
     },
     "metadata": {},
     "output_type": "display_data"
    }
   ],
   "source": [
    "df.date_diff_watch_purch.hist(bins = 12, edgecolor = 'black') #aplicamos la regla de sturges para calcular un numero optimo de clases para la cantidad de datos que tenemos\n",
    "plt.xlabel('Dias')\n",
    "plt.ylabel('Frecuencia')\n",
    "plt.title('Diferencia entre 1ra asistencia y compra de suscripcion')\n",
    "plt.show()"
   ]
  },
  {
   "cell_type": "markdown",
   "metadata": {},
   "source": [
    "Observando las estadísticas podemos inferir que:\n",
    "\n",
    "1. los valores atípicos en este caso tienen un mayor impacto en el valor de la media (26,24 días), ya que, si observamos los cuartiles de esta distribución de valores, encontramos que hasta el 75% (Q3) presentábamos hasta el valor de 7, por lo que la media se encuentra ubicada en el último cuartil, bastante alejado de su mediana, esto nos demuestra cuantitativamente, que tenemos valores atípicos altos.\n",
    "\n",
    "2. en casi la totalidad de los 3 primeros cuartiles de conversión se encuentran en las primeras 72 horas después de la primera asistencia a la transmisión de ventas, en deducción a esto, 3/4 partes de nuestros clientes ha tomado nuestra suscripción en caliente (apertura del carrito), los demás clientes han esperado al cierre, o han requerido de alguna oferta especial.\n",
    "\n",
    "3. Se necesita una evaluación financiera para contrastar el valor de la tasa de conversión del 11.289% que tenemos a usuarios de pago, ya que, sin esta, solo se podría comparar los resultados con otras estrategias de marketing, sin tener en cuenta los costos y la inversión en mercadeo que se hace para este fin.\n"
   ]
  },
  {
   "cell_type": "markdown",
   "metadata": {},
   "source": [
    "## Informacion adicional\n",
    "\n",
    "Como valor agregado al departamento de marketing, haremos una investigacion de la cantidad de impactos necesarios para que un cliente tome la decision de comprar una suscripcion, tambien los usuarios que no toman la decision de adquirir una suscripcion, que tanta cantidad de veces accede a nuestros recursos."
   ]
  },
  {
   "cell_type": "code",
   "execution_count": 51,
   "metadata": {},
   "outputs": [
    {
     "name": "stdout",
     "output_type": "stream",
     "text": [
      "Conexión exitosa a la base de datos.\n"
     ]
    }
   ],
   "source": [
    "conn = mysql.connector.connect(host=os.environ.get('HOST_BD'),user=os.environ.get('USER_BD'),password= os.environ.get('PASSWORD_BD'),database=os.environ.get('DATABASE_BD') )\n",
    "\n",
    "if conn.is_connected():\n",
    "    print(\"Conexión exitosa a la base de datos.\")\n",
    "else:\n",
    "    print(\"No se pudo establecer la conexión a la base de datos.\") \n"
   ]
  },
  {
   "cell_type": "markdown",
   "metadata": {},
   "source": [
    "nos aseguramos de limpiar los datos para evitar errores en los registros"
   ]
  },
  {
   "cell_type": "code",
   "execution_count": 52,
   "metadata": {},
   "outputs": [],
   "source": [
    "cursor = conn.cursor()\n",
    "\n",
    "query = \"\"\" \n",
    "SELECT \n",
    "    si.student_id,\n",
    "    si.date_registered,\n",
    "    se.date_watched,\n",
    "    sp.date_purchased\n",
    "FROM \n",
    "    db_course_conversions.student_info as si\n",
    "LEFT JOIN \n",
    "    db_course_conversions.student_engagement as se\n",
    "ON \n",
    "    si.student_id = se.student_id\n",
    "LEFT JOIN \n",
    "    db_course_conversions.student_purchases as sp\n",
    "ON \n",
    "    se.student_id = sp.student_id\n",
    "WHERE \n",
    "    sp.date_purchased >= se.date_watched;\n",
    "\"\"\"\n",
    "cursor.execute(query)\n",
    "datos = cursor.fetchall()\n",
    "df_base = pd.DataFrame(datos, columns = [x[0] for x in cursor.description])\n",
    "conn.close()"
   ]
  },
  {
   "cell_type": "code",
   "execution_count": 53,
   "metadata": {},
   "outputs": [
    {
     "data": {
      "text/html": [
       "<div>\n",
       "<style scoped>\n",
       "    .dataframe tbody tr th:only-of-type {\n",
       "        vertical-align: middle;\n",
       "    }\n",
       "\n",
       "    .dataframe tbody tr th {\n",
       "        vertical-align: top;\n",
       "    }\n",
       "\n",
       "    .dataframe thead th {\n",
       "        text-align: right;\n",
       "    }\n",
       "</style>\n",
       "<table border=\"1\" class=\"dataframe\">\n",
       "  <thead>\n",
       "    <tr style=\"text-align: right;\">\n",
       "      <th></th>\n",
       "      <th>student_id</th>\n",
       "      <th>date_registered</th>\n",
       "      <th>date_watched</th>\n",
       "      <th>date_purchased</th>\n",
       "    </tr>\n",
       "  </thead>\n",
       "  <tbody>\n",
       "    <tr>\n",
       "      <th>0</th>\n",
       "      <td>255203</td>\n",
       "      <td>2021-12-01</td>\n",
       "      <td>2021-12-01</td>\n",
       "      <td>2021-12-01</td>\n",
       "    </tr>\n",
       "    <tr>\n",
       "      <th>1</th>\n",
       "      <td>255204</td>\n",
       "      <td>2021-12-01</td>\n",
       "      <td>2021-12-01</td>\n",
       "      <td>2023-03-01</td>\n",
       "    </tr>\n",
       "    <tr>\n",
       "      <th>2</th>\n",
       "      <td>255204</td>\n",
       "      <td>2021-12-01</td>\n",
       "      <td>2021-12-01</td>\n",
       "      <td>2021-12-01</td>\n",
       "    </tr>\n",
       "    <tr>\n",
       "      <th>3</th>\n",
       "      <td>255204</td>\n",
       "      <td>2021-12-01</td>\n",
       "      <td>2021-12-02</td>\n",
       "      <td>2023-03-01</td>\n",
       "    </tr>\n",
       "    <tr>\n",
       "      <th>4</th>\n",
       "      <td>255204</td>\n",
       "      <td>2021-12-01</td>\n",
       "      <td>2021-12-03</td>\n",
       "      <td>2023-03-01</td>\n",
       "    </tr>\n",
       "    <tr>\n",
       "      <th>...</th>\n",
       "      <td>...</td>\n",
       "      <td>...</td>\n",
       "      <td>...</td>\n",
       "      <td>...</td>\n",
       "    </tr>\n",
       "    <tr>\n",
       "      <th>52242</th>\n",
       "      <td>296863</td>\n",
       "      <td>2022-10-30</td>\n",
       "      <td>2022-10-30</td>\n",
       "      <td>2022-10-30</td>\n",
       "    </tr>\n",
       "    <tr>\n",
       "      <th>52243</th>\n",
       "      <td>296865</td>\n",
       "      <td>2022-10-30</td>\n",
       "      <td>2022-10-30</td>\n",
       "      <td>2022-10-30</td>\n",
       "    </tr>\n",
       "    <tr>\n",
       "      <th>52244</th>\n",
       "      <td>296869</td>\n",
       "      <td>2022-10-30</td>\n",
       "      <td>2022-10-30</td>\n",
       "      <td>2022-10-30</td>\n",
       "    </tr>\n",
       "    <tr>\n",
       "      <th>52245</th>\n",
       "      <td>296892</td>\n",
       "      <td>2022-10-30</td>\n",
       "      <td>2022-10-30</td>\n",
       "      <td>2022-11-25</td>\n",
       "    </tr>\n",
       "    <tr>\n",
       "      <th>52246</th>\n",
       "      <td>296911</td>\n",
       "      <td>2022-10-30</td>\n",
       "      <td>2022-10-30</td>\n",
       "      <td>2022-10-30</td>\n",
       "    </tr>\n",
       "  </tbody>\n",
       "</table>\n",
       "<p>52247 rows × 4 columns</p>\n",
       "</div>"
      ],
      "text/plain": [
       "       student_id date_registered date_watched date_purchased\n",
       "0          255203      2021-12-01   2021-12-01     2021-12-01\n",
       "1          255204      2021-12-01   2021-12-01     2023-03-01\n",
       "2          255204      2021-12-01   2021-12-01     2021-12-01\n",
       "3          255204      2021-12-01   2021-12-02     2023-03-01\n",
       "4          255204      2021-12-01   2021-12-03     2023-03-01\n",
       "...           ...             ...          ...            ...\n",
       "52242      296863      2022-10-30   2022-10-30     2022-10-30\n",
       "52243      296865      2022-10-30   2022-10-30     2022-10-30\n",
       "52244      296869      2022-10-30   2022-10-30     2022-10-30\n",
       "52245      296892      2022-10-30   2022-10-30     2022-11-25\n",
       "52246      296911      2022-10-30   2022-10-30     2022-10-30\n",
       "\n",
       "[52247 rows x 4 columns]"
      ]
     },
     "execution_count": 53,
     "metadata": {},
     "output_type": "execute_result"
    }
   ],
   "source": [
    "df_base"
   ]
  }
 ],
 "metadata": {
  "kernelspec": {
   "display_name": "Python 3",
   "language": "python",
   "name": "python3"
  },
  "language_info": {
   "codemirror_mode": {
    "name": "ipython",
    "version": 3
   },
   "file_extension": ".py",
   "mimetype": "text/x-python",
   "name": "python",
   "nbconvert_exporter": "python",
   "pygments_lexer": "ipython3",
   "version": "3.12.0"
  }
 },
 "nbformat": 4,
 "nbformat_minor": 2
}
